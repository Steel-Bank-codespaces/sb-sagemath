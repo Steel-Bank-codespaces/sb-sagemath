{
 "cells": [
  {
   "cell_type": "code",
   "execution_count": 1,
   "id": "370478ef-fdac-466b-bfc0-16eb371b5fb5",
   "metadata": {},
   "outputs": [
    {
     "data": {
      "text/plain": [
       "Real Interval Field with 100 bits of precision"
      ]
     },
     "execution_count": 1,
     "metadata": {},
     "output_type": "execute_result"
    }
   ],
   "source": [
    "R = RealIntervalField(100); R"
   ]
  },
  {
   "cell_type": "code",
   "execution_count": 2,
   "id": "b5a42db6-024f-4f0c-a6f4-c186205be3b1",
   "metadata": {},
   "outputs": [
    {
     "data": {
      "text/plain": [
       "-1.?"
      ]
     },
     "execution_count": 2,
     "metadata": {},
     "output_type": "execute_result"
    }
   ],
   "source": [
    "a = R((-1,0)); a"
   ]
  },
  {
   "cell_type": "code",
   "execution_count": 3,
   "id": "fed2f6e3-7e16-44e0-8ec3-62f5c0f8763d",
   "metadata": {},
   "outputs": [
    {
     "data": {
      "text/plain": [
       "-1.?"
      ]
     },
     "execution_count": 3,
     "metadata": {},
     "output_type": "execute_result"
    }
   ],
   "source": [
    "b = sin(a); b"
   ]
  },
  {
   "cell_type": "code",
   "execution_count": 4,
   "id": "d74c8f0d-6553-46be-bc9e-c900f07c08d9",
   "metadata": {},
   "outputs": [
    {
     "data": {
      "text/plain": [
       "0.84147098480789650665250232163"
      ]
     },
     "execution_count": 4,
     "metadata": {},
     "output_type": "execute_result"
    }
   ],
   "source": [
    "c = a*b; c.diameter()"
   ]
  },
  {
   "cell_type": "code",
   "execution_count": null,
   "id": "6c95c0ae-0355-4261-80ad-63622c2d9d59",
   "metadata": {},
   "outputs": [],
   "source": [
    "c."
   ]
  }
 ],
 "metadata": {
  "kernelspec": {
   "display_name": "SageMath 9.2",
   "language": "sage",
   "name": "sagemath"
  },
  "language_info": {
   "codemirror_mode": {
    "name": "ipython",
    "version": 3
   },
   "file_extension": ".py",
   "mimetype": "text/x-python",
   "name": "python",
   "nbconvert_exporter": "python",
   "pygments_lexer": "ipython3",
   "version": "3.9.2"
  },
  "widgets": {
   "application/vnd.jupyter.widget-state+json": {
    "state": {},
    "version_major": 2,
    "version_minor": 0
   }
  }
 },
 "nbformat": 4,
 "nbformat_minor": 5
}
